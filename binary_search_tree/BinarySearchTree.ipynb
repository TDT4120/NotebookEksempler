{
 "cells": [
  {
   "cell_type": "code",
   "execution_count": null,
   "metadata": {},
   "outputs": [],
   "source": [
    "include(\"utils.jl\")\n",
    "using Utils\n",
    "srand();"
   ]
  },
  {
   "cell_type": "markdown",
   "metadata": {},
   "source": [
    "# Binary search trees\n",
    "\n",
    "In this exercise we will work with binary search trees."
   ]
  },
  {
   "cell_type": "markdown",
   "metadata": {},
   "source": [
    "## Warmup\n",
    "\n",
    "We have already defined the data structures you need. These follow the conventions from the book. Let's see an example:"
   ]
  },
  {
   "cell_type": "code",
   "execution_count": null,
   "metadata": {},
   "outputs": [],
   "source": [
    "T = Tree() # Create empty tree. Could have specified root\n",
    "T.root = Node(5)\n",
    "T.root.left = Node(2)\n",
    "T.root.left.p = T.root\n",
    "T.root.right = Node(7)\n",
    "T.root.right.p = T.root.p\n",
    "T.root.right.left = Node(6)\n",
    "T.root.right.left.p = T.root.right\n",
    "draw(T.root)"
   ]
  },
  {
   "cell_type": "markdown",
   "metadata": {},
   "source": [
    "Construct a binary search tree of height 4 with 12 nodes. You do not need to set the parent field.\n",
    "\n",
    "_Hint: What properties does a binary search tree have? How is height of a tree defined?_"
   ]
  },
  {
   "cell_type": "code",
   "execution_count": null,
   "metadata": {},
   "outputs": [],
   "source": [
    "T = Tree()\n",
    "T.root = Node(10)\n",
    "# START YOUR CODE HERE\n",
    "T.root.left = Node(5)\n",
    "T.root.right = Node(15)\n",
    "T.root.left.left = Node(3)\n",
    "T.root.left.right = Node(7)\n",
    "T.root.right.left = Node(12)\n",
    "T.root.right.right = Node(17)\n",
    "T.root.left.left.left = Node(2)\n",
    "T.root.left.left.right = Node(4)\n",
    "T.root.right.left.left = Node(11)\n",
    "T.root.right.left.right = Node(13)\n",
    "T.root.left.left.left.left = Node(1)\n",
    "# END OF YOUR CODE\n",
    "\n",
    "draw(T.root)\n",
    "@assert !has_cycles(T.root) \"It's not a tree - it has cycles\"\n",
    "@assert height(T.root) == 4 \"The tree has height $(height(T.root)), not 4\"\n",
    "@assert count_nodes(T.root) == 12 \"The tree has $(count_nodes(T.root)) nodes, not 12\"\n",
    "print_with_color(:green, \"OK. Good job!\")"
   ]
  },
  {
   "cell_type": "markdown",
   "metadata": {},
   "source": [
    "## Traversing\n",
    "\n",
    "We'll start of by traversing. We will use this tree as example:"
   ]
  },
  {
   "cell_type": "code",
   "execution_count": null,
   "metadata": {},
   "outputs": [],
   "source": [
    "draw(example_tree().root)"
   ]
  },
  {
   "cell_type": "markdown",
   "metadata": {},
   "source": [
    "### Inorder tree walk\n",
    "Implement inorder tree walk. Call `highlight(x)` to indicate order of nodes."
   ]
  },
  {
   "cell_type": "code",
   "execution_count": null,
   "metadata": {
    "collapsed": true
   },
   "outputs": [],
   "source": [
    "function inorder_tree_walk(x)\n",
    "    # START OF YOUR CODE\n",
    "    if x != nothing\n",
    "        inorder_tree_walk(x.left)\n",
    "        highlight(x)\n",
    "        inorder_tree_walk(x.right)\n",
    "    end\n",
    "    # END OF YOUR CODE\n",
    "end\n",
    "\n",
    "# Visualize the walk\n",
    "visualize_tree_algorithm(T -> inorder_tree_walk(T.root), example_tree())"
   ]
  },
  {
   "cell_type": "markdown",
   "metadata": {},
   "source": [
    "**[Q1]**\n",
    "Can we say anything about the order the nodes are visited?\n",
    "\n",
    "- A: No, it depends on the order the nodes were inserted in the tree\n",
    "- B: Yes, they are visited in increasing order\n",
    "- C: Yes, they are visited in decreasing order\n",
    "- D: Yes, the leaf nodes are visited first\n",
    "- E: Yes, root are visited first\n"
   ]
  },
  {
   "cell_type": "code",
   "execution_count": null,
   "metadata": {
    "collapsed": true
   },
   "outputs": [],
   "source": [
    "q1_answer = \"A/B/C/D/E\""
   ]
  },
  {
   "cell_type": "markdown",
   "metadata": {},
   "source": [
    "### Postorder tree walk\n",
    "Implement postorder tree walk. Call `highlight(x)` to indicate order of nodes."
   ]
  },
  {
   "cell_type": "code",
   "execution_count": null,
   "metadata": {
    "collapsed": true
   },
   "outputs": [],
   "source": [
    "function postorder_tree_walk(x)\n",
    "    # START OF YOUR CODE\n",
    "    if x != nothing\n",
    "        postorder_tree_walk(x.left)\n",
    "        postorder_tree_walk(x.right)\n",
    "        highlight(x)\n",
    "    end\n",
    "    # END OF YOUR CODE\n",
    "end\n",
    "\n",
    "# Visualize the walk\n",
    "visualize_tree_algorithm(T -> postorder_tree_walk(T.root), example_tree())"
   ]
  },
  {
   "cell_type": "markdown",
   "metadata": {},
   "source": [
    "**[Q2]**\n",
    "Can we say anything about the order the nodes are visited?\n",
    "\n",
    "- A: No, it depends on the order the nodes were inserted in the tree\n",
    "- B: Yes, they are visited in increasing order\n",
    "- C: Yes, they are visited in decreasing order\n",
    "- D: Yes, the leaf nodes are visited first\n",
    "- E: Yes, root are visited first"
   ]
  },
  {
   "cell_type": "code",
   "execution_count": null,
   "metadata": {
    "collapsed": true
   },
   "outputs": [],
   "source": [
    "q2_answer = \"A/B/C/D/E\""
   ]
  },
  {
   "cell_type": "markdown",
   "metadata": {},
   "source": [
    "## Search\n",
    "\n",
    "We will now look at search in binary search trees.\n",
    "\n",
    "Implement tree_search\n",
    "- `x` is the root node\n",
    "- `k` is the key we want to search for\n",
    "- return the node with key=k or `nothing` if no such node exists\n",
    "\n",
    "_Hint: Use `highlight(x, color=\"red/yellow/green/...\")` to color nodes during the search if you want to step through it_"
   ]
  },
  {
   "cell_type": "code",
   "execution_count": null,
   "metadata": {},
   "outputs": [],
   "source": [
    "function tree_search(x, k)\n",
    "    # START YOUR CODE HERE\n",
    "    highlight(x, \"yellow\")\n",
    "    if x == nothing || k == x.key\n",
    "        highlight(x, \"green\")\n",
    "        return x\n",
    "    end\n",
    "    if k < x.key\n",
    "        return tree_search(x.left, k)\n",
    "    else\n",
    "        return tree_search(x.right, k)\n",
    "    end\n",
    "    # END YOUR CODE HERE\n",
    "end"
   ]
  },
  {
   "cell_type": "code",
   "execution_count": null,
   "metadata": {
    "collapsed": true
   },
   "outputs": [],
   "source": [
    "# If you used highlight() in your code you can step through the highlights\n",
    "search_for = 4\n",
    "visualize_tree_algorithm(T -> tree_search(T.root, search_for), example_tree())"
   ]
  },
  {
   "cell_type": "code",
   "execution_count": null,
   "metadata": {},
   "outputs": [],
   "source": [
    "# Let's check if tree_search() works on our example tree\n",
    "\n",
    "# Check that it finds all nodes in the example tree\n",
    "for i in [1, 2, 3, 4, 5, 6, 7, 9, 10, 11]\n",
    "    @assert tree_search(example_tree().root, i).key == i\n",
    "end\n",
    "\n",
    "# Check that it doesn't find keys that are not in the tree\n",
    "for i in [-1, 0, 8, 12, 13]\n",
    "    @assert tree_search(example_tree().root, i) == nothing\n",
    "end\n",
    "\n",
    "print_with_color(:green, \"OK. Good job!\")"
   ]
  },
  {
   "cell_type": "markdown",
   "metadata": {},
   "source": [
    "**[Q3]**\n",
    "How many nodes will the search visit when searching for key=4 (including the root node and the target node (if found)?"
   ]
  },
  {
   "cell_type": "code",
   "execution_count": null,
   "metadata": {
    "collapsed": true
   },
   "outputs": [],
   "source": [
    "q3_answer = -1 # Choose a number"
   ]
  },
  {
   "cell_type": "markdown",
   "metadata": {},
   "source": [
    "**[Q4]**\n",
    "How many nodes will the search visit when searching for key=8 (including the root node and the target node (if found)?"
   ]
  },
  {
   "cell_type": "code",
   "execution_count": null,
   "metadata": {
    "collapsed": true
   },
   "outputs": [],
   "source": [
    "q4_answer = -1 # Choose a number"
   ]
  },
  {
   "cell_type": "markdown",
   "metadata": {},
   "source": [
    "**[Q5]**\n",
    "What is the worst case run time for tree_search (n is nodes in the tree):\n",
    "- A: $\\Theta(lg~n)$\n",
    "- B: $\\Theta(n)$\n",
    "- C: $\\Theta(n~lg~n)$\n",
    "- D: $\\Theta(n^2)$"
   ]
  },
  {
   "cell_type": "code",
   "execution_count": null,
   "metadata": {
    "collapsed": true
   },
   "outputs": [],
   "source": [
    "q5_answer = \"A/B/C/D\""
   ]
  },
  {
   "cell_type": "markdown",
   "metadata": {},
   "source": [
    "## Insertion"
   ]
  },
  {
   "cell_type": "markdown",
   "metadata": {},
   "source": [
    "Implement tree_insert"
   ]
  },
  {
   "cell_type": "code",
   "execution_count": null,
   "metadata": {},
   "outputs": [],
   "source": [
    "function tree_insert!(T, z)\n",
    "    # START YOUR CODE HERE\n",
    "    y = nothing\n",
    "    x = T.root\n",
    "    while x != nothing\n",
    "        y = x\n",
    "        highlight(y, \"yellow\")\n",
    "        if z.key < x.key\n",
    "            x = x.left\n",
    "        else\n",
    "            x = x.right\n",
    "        end\n",
    "    end\n",
    "    z.p = y\n",
    "    if y == nothing\n",
    "        T.root = z # tree T was empty\n",
    "    elseif z.key < y.key\n",
    "        y.left = z\n",
    "    else\n",
    "        y.right = z\n",
    "    end\n",
    "    highlight(z, \"green\")\n",
    "    T\n",
    "    # END OF YOUR CODE\n",
    "end"
   ]
  },
  {
   "cell_type": "code",
   "execution_count": null,
   "metadata": {
    "collapsed": true
   },
   "outputs": [],
   "source": [
    "# If you used highlight() in your code you can step through the highlights\n",
    "to_insert = Node(100)\n",
    "visualize_tree_algorithm(T -> tree_insert!(T, Utils.observable(to_insert, nothing)), example_tree())"
   ]
  },
  {
   "cell_type": "code",
   "execution_count": null,
   "metadata": {
    "collapsed": true
   },
   "outputs": [],
   "source": [
    "# Run automatic tests\n",
    "# test(tree_insert)"
   ]
  },
  {
   "cell_type": "markdown",
   "metadata": {},
   "source": [
    "Use tree_insert to redo the warmup task"
   ]
  },
  {
   "cell_type": "code",
   "execution_count": null,
   "metadata": {},
   "outputs": [],
   "source": [
    "T = Tree()\n",
    "tree_insert!(T, Node(10))\n",
    "# START YOUR CODE HERE\n",
    "tree_insert!(T, Node(5))\n",
    "tree_insert!(T, Node(3))\n",
    "tree_insert!(T, Node(2))\n",
    "tree_insert!(T, Node(1))\n",
    "tree_insert!(T, Node(4))\n",
    "tree_insert!(T, Node(7))\n",
    "tree_insert!(T, Node(15))\n",
    "tree_insert!(T, Node(12))\n",
    "tree_insert!(T, Node(11))\n",
    "tree_insert!(T, Node(13))\n",
    "tree_insert!(T, Node(17))\n",
    "# END OF YOUR CODE\n",
    "\n",
    "draw(T.root)\n",
    "@assert !has_cycles(T.root) \"It's not a tree - it has cycles\"\n",
    "@assert height(T.root) == 4 \"The tree has height $(height(T.root)), not 4\"\n",
    "@assert count_nodes(T.root) == 12 \"The tree has $(count_nodes(T.root)) nodes, not 12\"\n",
    "print_with_color(:green, \"OK. Good job!\")"
   ]
  },
  {
   "cell_type": "markdown",
   "metadata": {},
   "source": [
    "More theory questions ..."
   ]
  },
  {
   "cell_type": "markdown",
   "metadata": {},
   "source": [
    "## Deletion\n",
    "\n",
    "Implement tree_delete ..."
   ]
  },
  {
   "cell_type": "code",
   "execution_count": null,
   "metadata": {
    "collapsed": true
   },
   "outputs": [],
   "source": []
  }
 ],
 "metadata": {
  "kernelspec": {
   "display_name": "Julia 0.6.0",
   "language": "julia",
   "name": "julia-0.6"
  },
  "language_info": {
   "file_extension": ".jl",
   "mimetype": "application/julia",
   "name": "julia",
   "version": "0.6.0"
  }
 },
 "nbformat": 4,
 "nbformat_minor": 2
}
