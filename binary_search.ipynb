{
 "cells": [
  {
   "cell_type": "markdown",
   "metadata": {},
   "source": [
    "Study the following piece of code. Assume that the input, $A$, is a sorted list of integers of length $n$."
   ]
  },
  {
   "cell_type": "markdown",
   "metadata": {},
   "source": [
    "```julia\n",
    "function foo(A, item)\n",
    "    for i in 1:length(A)\n",
    "        element = A[i]\n",
    "        if element == item\n",
    "            return i\n",
    "        end\n",
    "    end\n",
    "    return 0\n",
    "end\n",
    "```"
   ]
  },
  {
   "cell_type": "markdown",
   "metadata": {},
   "source": [
    "Question 1: What does the code do?\n",
    "  1. Shuffles the list $A$.\n",
    "  2. Checks if the element $item$ exists in the list $A$\n",
    "  3. Checks if the element $item$ exists in the list $A$, and returns its index if it exists\n",
    "  \n",
    "Please place your answer as an integer in the variable \"q1_answer\"."
   ]
  },
  {
   "cell_type": "code",
   "execution_count": null,
   "metadata": {
    "collapsed": true
   },
   "outputs": [],
   "source": [
    "q1_answer = 0;"
   ]
  },
  {
   "cell_type": "markdown",
   "metadata": {},
   "source": [
    "Question 2: What is the Big-O performance of the code above?\n",
    "\n",
    "  1. $O(n)$\n",
    "  2. $O(nlg\\,n)$\n",
    "  3. $O(n^2)$\n",
    "\n",
    "Please place your answer as an integer in the variable \"q2_answer\"."
   ]
  },
  {
   "cell_type": "code",
   "execution_count": null,
   "metadata": {
    "collapsed": true
   },
   "outputs": [],
   "source": [
    "q2_answer = 0;"
   ]
  },
  {
   "cell_type": "markdown",
   "metadata": {},
   "source": [
    "Show below how the same functionality can be implemented with Big-O performance of $O(lg\\,n)$. The function ``` bar(A,item)``` should return a tuple with two values. The first value should be the same as returned from ``` foo(A,item)```. The second should be the number of look-ups done in the list A."
   ]
  },
  {
   "cell_type": "code",
   "execution_count": null,
   "metadata": {},
   "outputs": [],
   "source": [
    "include(\"checker.jl\") # Handed out\n",
    "\n",
    "function bar(A, item)\n",
    "    # Write your code here (koden under er forslag på fasit og skal ikke deles ut.)\n",
    "    first = 0\n",
    "    last = length(A)\n",
    "    lookups = 0\n",
    "    \n",
    "    while first < last\n",
    "        lookups = lookups+1\n",
    "        midpoint = div(first + last,2)\n",
    "        if A[midpoint] == item\n",
    "            return (midpoint, lookups)\n",
    "        else\n",
    "            if item < A[midpoint]\n",
    "                last = midpoint-1\n",
    "            else\n",
    "                first = midpoint+1\n",
    "            end\n",
    "        end\n",
    "    end\n",
    "    \n",
    "    return (0,lookups)\n",
    "end; "
   ]
  },
  {
   "cell_type": "markdown",
   "metadata": {},
   "source": [
    "Test if your code is working by calling the function ```check_code(implemented_function)```."
   ]
  },
  {
   "cell_type": "code",
   "execution_count": null,
   "metadata": {},
   "outputs": [],
   "source": [
    "check_code(bar)"
   ]
  }
 ],
 "metadata": {
  "kernelspec": {
   "display_name": "Julia 0.6.0",
   "language": "julia",
   "name": "julia-0.6"
  },
  "language_info": {
   "file_extension": ".jl",
   "mimetype": "application/julia",
   "name": "julia",
   "version": "0.6.0"
  }
 },
 "nbformat": 4,
 "nbformat_minor": 2
}
