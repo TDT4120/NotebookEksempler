{
 "cells": [
  {
   "cell_type": "markdown",
   "metadata": {},
   "source": [
    "# Øving 10 - Maksimal flyt"
   ]
  },
  {
   "cell_type": "markdown",
   "metadata": {},
   "source": [
    "Q1: Hva er maksimal flyt-problemet?\n",
    "\n",
    "1. Kvantifisere hvor mye bedre eller værre enn suboptimal løsning av korteste-vei problemet er\n",
    "2. Å maksimere flyten mellom to noder i en graf\n",
    "3. Å finne en flyt av maksimal flyt-verdi gjennom et nettverk"
   ]
  },
  {
   "cell_type": "markdown",
   "metadata": {},
   "source": [
    "A:"
   ]
  },
  {
   "cell_type": "markdown",
   "metadata": {},
   "source": [
    "Q2: Hva betyr $c(v_1, v_2) = 10$, $f(v_1, v_2) = 3$ ?\n",
    "1. Enhver flyt fra $v_1$ til $v_2$ koster 10. Flyten er 3, og den totale kostnaden fra $v_1$ til $v_2$ blir 30.\n",
    "2. Kapasiteten fra $v_2$ til $v_1$ er 10. Nåværende flyt fra $v_2$ til $v_1$ er 3.\n",
    "3. Kapasiteten fra $v_1$ til $v_2$ er 10. Nåværende flyt fra $v_1$ til $v_2$ er 3."
   ]
  },
  {
   "cell_type": "markdown",
   "metadata": {},
   "source": [
    "A:"
   ]
  },
  {
   "cell_type": "markdown",
   "metadata": {},
   "source": [
    "Q3: Hva er flyten $f(v_2, v_3)$ i dette nettverket?"
   ]
  },
  {
   "cell_type": "code",
   "execution_count": null,
   "metadata": {},
   "outputs": [],
   "source": [
    "include(\"theory.jl\")\n",
    "#raw_network(G, E, F)\n",
    "println(\"hello\")"
   ]
  },
  {
   "cell_type": "markdown",
   "metadata": {},
   "source": [
    "1. 0\n",
    "2. 2\n",
    "3. -2\n",
    "4. 3"
   ]
  },
  {
   "cell_type": "markdown",
   "metadata": {},
   "source": [
    "A:"
   ]
  },
  {
   "cell_type": "markdown",
   "metadata": {},
   "source": [
    "Q4: Hva er galt med dette nettverket? "
   ]
  },
  {
   "cell_type": "code",
   "execution_count": null,
   "metadata": {},
   "outputs": [],
   "source": [
    "draw_network(G, E2, F2, C2)"
   ]
  },
  {
   "cell_type": "markdown",
   "metadata": {},
   "source": [
    "1. Flyten er ikke opprettholdt\n",
    "2. Det må være flyt i alle kanter i ett flytnettverk\n",
    "3. Det går for liten flyt mellom node 1 og 3 ($f(v_1, v_3)$)"
   ]
  },
  {
   "cell_type": "markdown",
   "metadata": {},
   "source": [
    "A:"
   ]
  },
  {
   "cell_type": "code",
   "execution_count": null,
   "metadata": {},
   "outputs": [],
   "source": [
    "include(\"theory.jl\")\n",
    "draw_network(G, E3, F3, C3)"
   ]
  },
  {
   "cell_type": "markdown",
   "metadata": {},
   "source": [
    "Q: Iflg kruskals algoritme, hvilken sti vil være den neste flytøkende stien?\n",
    "\n",
    "\n",
    "1. `[1 2 4]`\n",
    "2. `[1 3 2 4]`\n",
    "3. `[1 2 3 4]`"
   ]
  },
  {
   "cell_type": "markdown",
   "metadata": {},
   "source": [
    "A:"
   ]
  },
  {
   "cell_type": "markdown",
   "metadata": {},
   "source": [
    "## Praksis"
   ]
  },
  {
   "cell_type": "markdown",
   "metadata": {},
   "source": [
    "Her skal du løse maksimal-flyt problemet. Hvilken algoritme du implementerer er opp til deg, men Edmonds-Karp eller Ford-Fulkerson(s. 724 i Cormen) er gode kandidater. Det er  allerede satt opp ett rammeverk til deg.\n",
    "\n",
    "### Rammeverk\n",
    "$G$ er den underliggende grafen.\n",
    "\n",
    "$E$ gir uttrykk for $c(\\cdotp ,\\cdotp)$ i $G$.<br>\n",
    "Eksempelvis:\n",
    "```julia\n",
    "E[1] = [1 2 16]\n",
    "```\n",
    "Dette betyr at det går en kant fra node 1 til node 2 med kapasitet på 16."
   ]
  },
  {
   "cell_type": "code",
   "execution_count": null,
   "metadata": {},
   "outputs": [],
   "source": []
  },
  {
   "cell_type": "markdown",
   "metadata": {},
   "source": [
    "$F$ er en naboskapsmatrise, og gir uttrukk for $f(\\cdotp, \\cdotp)$ i $G$.\n",
    "\n",
    "Enhver indeks i $F$ gir altså flyten fra indeksen til alle de andre nodene i grafen.<br>\n",
    "I starten vil det ikke gå noe flyt gjennom grafen, og alle indekser i $F$ vil være slike:\n",
    "```julia\n",
    "F[1] = [0 0 0 0]\n",
    "```"
   ]
  },
  {
   "cell_type": "markdown",
   "metadata": {},
   "source": [
    "$C$ er, i likhet med $F$ en naboskapsmatrise, og gir uttrykk for $c(\\cdotp, \\cdotp)$ i $G$.\n",
    "\n",
    "```julia\n",
    "C[1] = [0 16 13 0 0 0]\n",
    "```"
   ]
  },
  {
   "cell_type": "code",
   "execution_count": null,
   "metadata": {},
   "outputs": [],
   "source": [
    "include(\"flow.jl\")\n",
    "draw_initial_network()"
   ]
  },
  {
   "cell_type": "markdown",
   "metadata": {},
   "source": [
    "Her skal du fullføre funksjonen for å finne en flytforøkende sti i en graf. Funksjonen er nesten ferdig, og trenger noen linjer kode der kommentaren er.\n",
    "\n",
    "På grafen over skal den returnere [1 2 4 6]"
   ]
  },
  {
   "cell_type": "code",
   "execution_count": null,
   "metadata": {},
   "outputs": [],
   "source": [
    "function find_aug_path(G, E, F, source, sink)\n",
    "    Q = Queue(Int)\n",
    "    V = falses(nv(G))\n",
    "    P = Dict{Int, Int}()\n",
    "\n",
    "    function get_path()\n",
    "        n = sink\n",
    "        res = []\n",
    "        while n != 0\n",
    "            push!(res, n)\n",
    "            n = P[n]\n",
    "        end\n",
    "        reverse!(res)\n",
    "    end\n",
    "\n",
    "    enqueue!(Q, 1)\n",
    "    P[1] = 0\n",
    "\n",
    "    while length(Q) > 0\n",
    "        n = dequeue!(Q)\n",
    "        if n == sink\n",
    "            return get_path()\n",
    "        end\n",
    "        for nb in all_neighbors(G, n)\n",
    "            # Sjekk om naboen er med i den flytforøkende stien\n",
    "        end\n",
    "    end\n",
    "    []\n",
    "end\n",
    "draw_network(G, E, F)\n",
    "p = find_aug_path()\n",
    "println(p)"
   ]
  },
  {
   "cell_type": "markdown",
   "metadata": {},
   "source": [
    "Her skal du løse maksimal-flyt problemet. `find_aug_path()` brukes til å finne den nye flytforøkende stien. Funksjonen `max_flow(G, E, F)` skal returnere den maksimale flyten $|\\ f\\ |$ i grafen $G$."
   ]
  },
  {
   "cell_type": "code",
   "execution_count": null,
   "metadata": {},
   "outputs": [],
   "source": [
    "draw_network(G,E,F)\n",
    "function max_flow(G, E, C, source, sink)\n",
    "    path = find_aug_path()\n",
    "    while length(path) > 0\n",
    "        f = typemax(Int)\n",
    "        for i in 1:length(path)-1\n",
    "            # Finn maksimal flyt som kan gå gjennom denne stien\n",
    "        end\n",
    "        for i in 1:length(path)-1\n",
    "            # Oppdater flyten langs stien her \n",
    "        end\n",
    "        path = find_aug_path()\n",
    "        draw_network(G,E,F)\n",
    "    end\n",
    "    \n",
    "    F\n",
    "end\n",
    "max_flow(G, E, C, 1, 6)"
   ]
  },
  {
   "cell_type": "code",
   "execution_count": null,
   "metadata": {},
   "outputs": [],
   "source": []
  },
  {
   "cell_type": "code",
   "execution_count": null,
   "metadata": {},
   "outputs": [],
   "source": []
  },
  {
   "cell_type": "code",
   "execution_count": null,
   "metadata": {},
   "outputs": [],
   "source": []
  },
  {
   "cell_type": "code",
   "execution_count": null,
   "metadata": {},
   "outputs": [],
   "source": []
  },
  {
   "cell_type": "code",
   "execution_count": null,
   "metadata": {},
   "outputs": [],
   "source": []
  },
  {
   "cell_type": "code",
   "execution_count": null,
   "metadata": {},
   "outputs": [],
   "source": []
  },
  {
   "cell_type": "code",
   "execution_count": null,
   "metadata": {},
   "outputs": [],
   "source": []
  },
  {
   "cell_type": "code",
   "execution_count": null,
   "metadata": {},
   "outputs": [],
   "source": []
  },
  {
   "cell_type": "code",
   "execution_count": null,
   "metadata": {},
   "outputs": [],
   "source": []
  },
  {
   "cell_type": "code",
   "execution_count": null,
   "metadata": {},
   "outputs": [],
   "source": []
  },
  {
   "cell_type": "code",
   "execution_count": null,
   "metadata": {},
   "outputs": [],
   "source": []
  },
  {
   "cell_type": "code",
   "execution_count": null,
   "metadata": {},
   "outputs": [],
   "source": []
  },
  {
   "cell_type": "code",
   "execution_count": null,
   "metadata": {},
   "outputs": [],
   "source": []
  },
  {
   "cell_type": "code",
   "execution_count": null,
   "metadata": {},
   "outputs": [],
   "source": []
  },
  {
   "cell_type": "code",
   "execution_count": null,
   "metadata": {},
   "outputs": [],
   "source": []
  },
  {
   "cell_type": "code",
   "execution_count": null,
   "metadata": {},
   "outputs": [],
   "source": []
  },
  {
   "cell_type": "code",
   "execution_count": null,
   "metadata": {},
   "outputs": [],
   "source": []
  },
  {
   "cell_type": "code",
   "execution_count": null,
   "metadata": {},
   "outputs": [],
   "source": []
  },
  {
   "cell_type": "code",
   "execution_count": null,
   "metadata": {},
   "outputs": [],
   "source": []
  },
  {
   "cell_type": "code",
   "execution_count": null,
   "metadata": {},
   "outputs": [],
   "source": []
  },
  {
   "cell_type": "code",
   "execution_count": null,
   "metadata": {},
   "outputs": [],
   "source": []
  },
  {
   "cell_type": "code",
   "execution_count": null,
   "metadata": {},
   "outputs": [],
   "source": []
  },
  {
   "cell_type": "code",
   "execution_count": null,
   "metadata": {},
   "outputs": [],
   "source": []
  },
  {
   "cell_type": "code",
   "execution_count": null,
   "metadata": {},
   "outputs": [],
   "source": []
  },
  {
   "cell_type": "code",
   "execution_count": null,
   "metadata": {},
   "outputs": [],
   "source": []
  },
  {
   "cell_type": "code",
   "execution_count": null,
   "metadata": {},
   "outputs": [],
   "source": []
  },
  {
   "cell_type": "code",
   "execution_count": null,
   "metadata": {},
   "outputs": [],
   "source": []
  },
  {
   "cell_type": "code",
   "execution_count": null,
   "metadata": {},
   "outputs": [],
   "source": []
  },
  {
   "cell_type": "code",
   "execution_count": null,
   "metadata": {},
   "outputs": [],
   "source": []
  },
  {
   "cell_type": "code",
   "execution_count": null,
   "metadata": {},
   "outputs": [],
   "source": []
  },
  {
   "cell_type": "code",
   "execution_count": null,
   "metadata": {},
   "outputs": [],
   "source": []
  }
 ],
 "metadata": {
  "kernelspec": {
   "display_name": "Julia 0.6.0",
   "language": "julia",
   "name": "julia-0.6"
  },
  "language_info": {
   "file_extension": ".jl",
   "mimetype": "application/julia",
   "name": "julia",
   "version": "0.6.0"
  }
 },
 "nbformat": 4,
 "nbformat_minor": 2
}
