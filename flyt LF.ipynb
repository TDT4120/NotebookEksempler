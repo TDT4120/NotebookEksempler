{
 "cells": [
  {
   "cell_type": "markdown",
   "metadata": {},
   "source": [
    "# Øving 10 - Maksimal flyt"
   ]
  },
  {
   "cell_type": "code",
   "execution_count": null,
   "metadata": {},
   "outputs": [],
   "source": [
    "include(\"checker.jl\")\n",
    "include(\"flow_checker.jl\")\n",
    "include(\"theory.jl\")\n",
    "import FlowChecker\n",
    "import TheoryChecker"
   ]
  },
  {
   "cell_type": "code",
   "execution_count": null,
   "metadata": {},
   "outputs": [],
   "source": [
    "theory_answers = Dict{Int, TheoryChecker.IntOrFloatOrString}([]);"
   ]
  },
  {
   "cell_type": "markdown",
   "metadata": {},
   "source": [
    "## Teori\n"
   ]
  },
  {
   "cell_type": "markdown",
   "metadata": {},
   "source": [
    "Q1: Hva er maksimal flyt-problemet?\n",
    "\n",
    "1. Kvantifisere hvor mye bedre eller værre enn suboptimal løsning av korteste-vei problemet er\n",
    "2. Å maksimere flyten mellom to noder i en graf\n",
    "3. Å finne en flyt av maksimal flyt-verdi gjennom et nettverk"
   ]
  },
  {
   "cell_type": "code",
   "execution_count": null,
   "metadata": {},
   "outputs": [],
   "source": [
    "theory_answers[1] = 1;"
   ]
  },
  {
   "cell_type": "markdown",
   "metadata": {},
   "source": [
    "Q2: Hva betyr $c(v_1, v_2) = 10$, $f(v_1, v_2) = 3$ ?\n",
    "1. Enhver flyt fra $v_1$ til $v_2$ koster 10. Flyten er 3, og den totale kostnaden fra $v_1$ til $v_2$ blir 30.\n",
    "2. Kapasiteten fra $v_2$ til $v_1$ er 10. Nåværende flyt fra $v_2$ til $v_1$ er 3.\n",
    "3. Kapasiteten fra $v_1$ til $v_2$ er 10. Nåværende flyt fra $v_1$ til $v_2$ er 3."
   ]
  },
  {
   "cell_type": "code",
   "execution_count": null,
   "metadata": {},
   "outputs": [],
   "source": [
    "theory_answers[2] = 1;"
   ]
  },
  {
   "cell_type": "markdown",
   "metadata": {},
   "source": [
    "Q3: Hva er flyten $f(v_2, v_3)$ i dette nettverket?"
   ]
  },
  {
   "cell_type": "code",
   "execution_count": null,
   "metadata": {},
   "outputs": [],
   "source": [
    "draw_network(G, E, F, C)"
   ]
  },
  {
   "cell_type": "markdown",
   "metadata": {},
   "source": [
    "1. 0\n",
    "2. 2\n",
    "3. -2\n",
    "4. 8"
   ]
  },
  {
   "cell_type": "code",
   "execution_count": null,
   "metadata": {},
   "outputs": [],
   "source": [
    "theory_answers[3] = 1;"
   ]
  },
  {
   "cell_type": "markdown",
   "metadata": {},
   "source": [
    "Q4: Hva er galt med dette nettverket? "
   ]
  },
  {
   "cell_type": "code",
   "execution_count": null,
   "metadata": {},
   "outputs": [],
   "source": [
    "draw_network(G, E2, F2, C2)"
   ]
  },
  {
   "cell_type": "markdown",
   "metadata": {},
   "source": [
    "1. Flyten er ikke opprettholdt\n",
    "2. Det må være flyt i alle kanter i ett flytnettverk\n",
    "3. Det går for liten flyt mellom node 1 og 3 ($f(v_1, v_3)$)"
   ]
  },
  {
   "cell_type": "code",
   "execution_count": null,
   "metadata": {},
   "outputs": [],
   "source": [
    "theory_answers[4] = 1;"
   ]
  },
  {
   "cell_type": "code",
   "execution_count": null,
   "metadata": {},
   "outputs": [],
   "source": [
    "draw_network(G, E3, F3, C3)"
   ]
  },
  {
   "cell_type": "markdown",
   "metadata": {},
   "source": [
    "Q5: Iflg Edmonds-Karps algoritme, hvilken sti vil være den neste flytøkende stien?\n",
    "\n",
    "\n",
    "1. `[1 2 4]`\n",
    "2. `[1 3 2 4]`\n",
    "3. `[1 2 3 4]`"
   ]
  },
  {
   "cell_type": "code",
   "execution_count": null,
   "metadata": {},
   "outputs": [],
   "source": [
    "theory_answers[5] = 1;"
   ]
  },
  {
   "cell_type": "code",
   "execution_count": null,
   "metadata": {},
   "outputs": [],
   "source": [
    "include(\"practice.jl\")"
   ]
  },
  {
   "cell_type": "markdown",
   "metadata": {},
   "source": [
    "## Praksis"
   ]
  },
  {
   "cell_type": "markdown",
   "metadata": {},
   "source": [
    "Her skal du løse maksimal-flyt problemet. Hvilken algoritme du implementerer er opp til deg, men Edmonds-Karp eller Ford-Fulkerson(s. 724 i Cormen) er gode kandidater. Det er  allerede satt opp ett rammeverk til deg.\n",
    "\n",
    "### Rammeverk\n",
    "$G$ er den underliggende grafen.\n",
    "\n",
    "$E$ gir uttrykk for $c(\\cdotp ,\\cdotp)$ i $G$.<br>\n",
    "Eksempelvis:\n",
    "```julia\n",
    "E[1] = [1 2 16]\n",
    "```\n",
    "Dette betyr at det går en kant fra node 1 til node 2 med kapasitet på 16."
   ]
  },
  {
   "cell_type": "markdown",
   "metadata": {},
   "source": [
    "$F$ er en naboskapsmatrise, og gir uttrukk for $f(\\cdotp, \\cdotp)$ i $G$.\n",
    "\n",
    "Enhver indeks i $F$ gir altså flyten fra indeksen til alle de andre nodene i grafen.<br>\n",
    "I starten vil det ikke gå noe flyt gjennom grafen, og alle indekser i $F$ vil være slike:\n",
    "```julia\n",
    "F[1] = [0 0 0 0]\n",
    "```"
   ]
  },
  {
   "cell_type": "markdown",
   "metadata": {},
   "source": [
    "$C$ er, i likhet med $F$ en naboskapsmatrise, og gir uttrykk for $c(\\cdotp, \\cdotp)$ i $G$.\n",
    "\n",
    "```julia\n",
    "C[1] = [0 16 13 0 0 0]\n",
    "```"
   ]
  },
  {
   "cell_type": "code",
   "execution_count": null,
   "metadata": {},
   "outputs": [],
   "source": [
    "draw_initial_network()"
   ]
  },
  {
   "cell_type": "markdown",
   "metadata": {},
   "source": [
    "Her skal du fullføre funksjonen for å finne en flytforøkende sti i en graf. Funksjonen er nesten ferdig, og trenger noen linjer kode der kommentaren er.\n",
    "\n",
    "På grafen over skal den returnere [1 2 4 6] eller [1 3 5 6]."
   ]
  },
  {
   "cell_type": "code",
   "execution_count": null,
   "metadata": {},
   "outputs": [],
   "source": [
    "function find_aug_path(G, E, F, C, source, sink)\n",
    "    Q = Queue(Int)\n",
    "    V = falses(nv(G))\n",
    "    P = Dict{Int, Int}()\n",
    "\n",
    "    function get_path()\n",
    "        n = sink\n",
    "        res = []\n",
    "        while n != 0\n",
    "            push!(res, n)\n",
    "            n = P[n]\n",
    "        end\n",
    "        reverse!(res)\n",
    "    end\n",
    "\n",
    "    enqueue!(Q, source)\n",
    "    P[source] = 0\n",
    "    V[source] = true\n",
    "\n",
    "    while length(Q) > 0\n",
    "        n = dequeue!(Q)\n",
    "        if n == sink\n",
    "            return get_path()\n",
    "        end\n",
    "        for nb in all_neighbors(G, n)\n",
    "            # Sjekk om naboen er med i den flytforøkende stien\n",
    "            # START IKKE UTDELT\n",
    "            if !V[nb] && F[n, nb] < C[n, nb]\n",
    "                    enqueue!(Q, nb)\n",
    "                    V[nb] = true\n",
    "                    P[nb] = n\n",
    "                end\n",
    "            # SLUTT IKKE UTDELT\n",
    "        end\n",
    "    end\n",
    "    []\n",
    "end\n",
    "draw_network(G, E, F)\n",
    "p = find_aug_path(G, E, F, C, 1, 6)\n",
    "println(p)"
   ]
  },
  {
   "cell_type": "markdown",
   "metadata": {},
   "source": [
    "Her skal du løse maksimal-flyt problemet. `find_aug_path()` brukes til å finne den nye flytforøkende stien. Funksjonen `max_flow(G, E, F)` skal returnere den maksimale flyten $|\\ f\\ |$ i grafen $G$."
   ]
  },
  {
   "cell_type": "code",
   "execution_count": null,
   "metadata": {},
   "outputs": [],
   "source": [
    "draw_network(G,E,F)\n",
    "function max_flow(G, E, C, source, sink, draw=false)\n",
    "    \n",
    "    F = zeros(C)\n",
    "    #find augmenting path\n",
    "    path = find_aug_path(G, E, F, C, source, sink)\n",
    "    while length(path) > 0\n",
    "        f = typemax(Int)\n",
    "        for i in 1:length(path)-1\n",
    "            # Finn maksimal flyt som kan gå gjennom denne stien\n",
    "            # START IKKE UTDELT KODE\n",
    "            u, v = path[i], path[i+1]\n",
    "            f = min(f, C[u, v] - F[u, v])\n",
    "            # SLUTT IKKE UTDELT KODE\n",
    "            \n",
    "        end\n",
    "        for i in 1:length(path)-1\n",
    "            # Oppdater flyten langs stien her\n",
    "            # START IKKE UTDELT KODE\n",
    "            u, v = path[i], path[i+1]\n",
    "            F[u, v] += f\n",
    "            # SLUTT IKKE UTDELT KODE\n",
    "            \n",
    "        end\n",
    "        path = find_aug_path(G, E, F, C, source, sink)\n",
    "        if (draw)\n",
    "            draw_network(G,E,F)\n",
    "        end\n",
    "    end\n",
    "    \n",
    "    # Regn ut flyten\n",
    "    flow = 0\n",
    "    for u = 1:nv(G)\n",
    "        flow += F[u, sink]\n",
    "    end\n",
    "    \n",
    "    return flow\n",
    "end\n",
    "max_flow(G, E, C, 1, 6, true);"
   ]
  },
  {
   "cell_type": "markdown",
   "metadata": {},
   "source": [
    "**Teori**: Linja under sjekker om teorispørsmålene har gyldige verdier."
   ]
  },
  {
   "cell_type": "code",
   "execution_count": null,
   "metadata": {},
   "outputs": [],
   "source": [
    "TheoryChecker.check_answers(theory_answers, FlowChecker.answer_metadata);"
   ]
  },
  {
   "cell_type": "markdown",
   "metadata": {},
   "source": [
    "**Praksis**: Linja under kjører noen lokale testtilfeller for find_aug_path-funksjonen."
   ]
  },
  {
   "cell_type": "code",
   "execution_count": null,
   "metadata": {
    "scrolled": true
   },
   "outputs": [],
   "source": [
    "CodeChecker.check_answers(find_aug_path, FlowChecker.test_augpath_input, FlowChecker.test_augpath_expected_output)"
   ]
  },
  {
   "cell_type": "markdown",
   "metadata": {},
   "source": [
    "**Praksis**: Linja under kjører noen lokale testtilfeller for max_flow-funksjonen."
   ]
  },
  {
   "cell_type": "code",
   "execution_count": null,
   "metadata": {
    "scrolled": false
   },
   "outputs": [],
   "source": [
    "CodeChecker.check_answers(max_flow, FlowChecker.test_maxflow_input, FlowChecker.test_maxflow_expected_output)"
   ]
  }
 ],
 "metadata": {
  "kernelspec": {
   "display_name": "Julia 0.6.0",
   "language": "julia",
   "name": "julia-0.6"
  },
  "language_info": {
   "file_extension": ".jl",
   "mimetype": "application/julia",
   "name": "julia",
   "version": "0.6.0"
  }
 },
 "nbformat": 4,
 "nbformat_minor": 2
}
